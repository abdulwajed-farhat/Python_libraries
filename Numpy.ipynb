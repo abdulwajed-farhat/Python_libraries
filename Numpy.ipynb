{
 "cells": [
  {
   "cell_type": "markdown",
   "id": "6a63cc5e",
   "metadata": {},
   "source": [
    "# Working with Numpy Library"
   ]
  },
  {
   "cell_type": "code",
   "execution_count": 20,
   "id": "eb0859a8",
   "metadata": {},
   "outputs": [],
   "source": [
    "import numpy as np  #For importing the library. putting np or any other name is optional"
   ]
  },
  {
   "cell_type": "code",
   "execution_count": 28,
   "id": "828181bb",
   "metadata": {},
   "outputs": [
    {
     "data": {
      "text/plain": [
       "array([ 1,  2,  8,  3, 10,  3,  4,  5])"
      ]
     },
     "execution_count": 28,
     "metadata": {},
     "output_type": "execute_result"
    }
   ],
   "source": [
    "np_array=np.array([1,2,8,3,10,3,4,5]) #For creating an array using numpy array\n",
    "np_array"
   ]
  },
  {
   "cell_type": "code",
   "execution_count": 22,
   "id": "5498fb57",
   "metadata": {},
   "outputs": [
    {
     "data": {
      "text/plain": [
       "array([ 2,  4,  6,  8, 10])"
      ]
     },
     "execution_count": 22,
     "metadata": {},
     "output_type": "execute_result"
    }
   ],
   "source": [
    "np_array2=np_array*2\n",
    "np_array2"
   ]
  },
  {
   "cell_type": "code",
   "execution_count": 23,
   "id": "2c200e3c",
   "metadata": {},
   "outputs": [
    {
     "data": {
      "text/plain": [
       "array([ 3,  6,  9, 12, 15])"
      ]
     },
     "execution_count": 23,
     "metadata": {},
     "output_type": "execute_result"
    }
   ],
   "source": [
    "#We can add,subtract,multiple and divide two arrays element by element\n",
    "np_array+np_array2"
   ]
  },
  {
   "cell_type": "code",
   "execution_count": 24,
   "id": "20c2bd68",
   "metadata": {},
   "outputs": [
    {
     "data": {
      "text/plain": [
       "array([-1, -2, -3, -4, -5])"
      ]
     },
     "execution_count": 24,
     "metadata": {},
     "output_type": "execute_result"
    }
   ],
   "source": [
    "np_array-np_array2"
   ]
  },
  {
   "cell_type": "code",
   "execution_count": 37,
   "id": "0aea97be",
   "metadata": {},
   "outputs": [
    {
     "data": {
      "text/plain": [
       "array([10,  8,  5,  4,  3,  3,  2,  1])"
      ]
     },
     "execution_count": 37,
     "metadata": {},
     "output_type": "execute_result"
    }
   ],
   "source": [
    "#For sorting array in descending order\n",
    "np_array=np.sort(np_array)[::-1]\n",
    "np_array"
   ]
  },
  {
   "cell_type": "code",
   "execution_count": 39,
   "id": "0eab6aef",
   "metadata": {},
   "outputs": [
    {
     "data": {
      "text/plain": [
       "array([ 1,  2,  3,  3,  4,  5,  8, 10])"
      ]
     },
     "execution_count": 39,
     "metadata": {},
     "output_type": "execute_result"
    }
   ],
   "source": [
    "#For sorting the array in ascending order\n",
    "np_array=np.sort(np_array)\n",
    "np_array"
   ]
  },
  {
   "cell_type": "code",
   "execution_count": 42,
   "id": "58c5558a",
   "metadata": {},
   "outputs": [
    {
     "data": {
      "text/plain": [
       "array([ 2,  4,  6,  6,  8, 10, 16, 20])"
      ]
     },
     "execution_count": 42,
     "metadata": {},
     "output_type": "execute_result"
    }
   ],
   "source": [
    "#For adding,subtract,multiple and dividing a number to all elements of an array\n",
    "np_array+2\n",
    "np_array-2\n",
    "np_array/2\n",
    "np_array*2"
   ]
  },
  {
   "cell_type": "code",
   "execution_count": null,
   "id": "c32daf8f",
   "metadata": {},
   "outputs": [],
   "source": [
    "np.linspace(0,1,3, endpoint=False)"
   ]
  },
  {
   "cell_type": "code",
   "execution_count": null,
   "id": "399bfacd",
   "metadata": {},
   "outputs": [],
   "source": [
    "np.random.randn(2,2) #For a range of random numbers"
   ]
  },
  {
   "cell_type": "code",
   "execution_count": null,
   "id": "a3621f54",
   "metadata": {},
   "outputs": [],
   "source": [
    "np.random.randint(10,20,20)"
   ]
  },
  {
   "cell_type": "code",
   "execution_count": 43,
   "id": "cecb33c4",
   "metadata": {},
   "outputs": [
    {
     "data": {
      "text/plain": [
       "array([10, 12, 14, 16, 18])"
      ]
     },
     "execution_count": 43,
     "metadata": {},
     "output_type": "execute_result"
    }
   ],
   "source": [
    "np.arange(10,20,2) #For a range of equal intervalled numbers"
   ]
  },
  {
   "cell_type": "code",
   "execution_count": null,
   "id": "2fd9ae73",
   "metadata": {},
   "outputs": [],
   "source": [
    "np.arange(10,20)"
   ]
  },
  {
   "cell_type": "code",
   "execution_count": null,
   "id": "a347e2db",
   "metadata": {},
   "outputs": [],
   "source": [
    "np.linspace(0,10,5,endpoint=True)"
   ]
  },
  {
   "cell_type": "code",
   "execution_count": null,
   "id": "a1756941",
   "metadata": {},
   "outputs": [],
   "source": [
    "np.eye(5,dtype=int)"
   ]
  },
  {
   "cell_type": "code",
   "execution_count": null,
   "id": "b1e4d6bf",
   "metadata": {},
   "outputs": [],
   "source": [
    "np.zeros(5) #For a zero and one dimensional array"
   ]
  },
  {
   "cell_type": "code",
   "execution_count": null,
   "id": "523817e4",
   "metadata": {},
   "outputs": [],
   "source": [
    "np.zeros(2)"
   ]
  },
  {
   "cell_type": "code",
   "execution_count": null,
   "id": "4747de93",
   "metadata": {},
   "outputs": [],
   "source": [
    "np.zeros((2,3),dtype=int) #For a zero and two dimensional array"
   ]
  },
  {
   "cell_type": "code",
   "execution_count": 44,
   "id": "3479d10c",
   "metadata": {},
   "outputs": [
    {
     "data": {
      "text/plain": [
       "array([1, 8, 9, 7, 1])"
      ]
     },
     "execution_count": 44,
     "metadata": {},
     "output_type": "execute_result"
    }
   ],
   "source": [
    "np_range=np.random.randint(0,10,5)\n",
    "np_range"
   ]
  },
  {
   "cell_type": "code",
   "execution_count": 45,
   "id": "ce857310",
   "metadata": {},
   "outputs": [
    {
     "data": {
      "text/plain": [
       "1"
      ]
     },
     "execution_count": 45,
     "metadata": {},
     "output_type": "execute_result"
    }
   ],
   "source": [
    "np_range.min()"
   ]
  },
  {
   "cell_type": "code",
   "execution_count": 46,
   "id": "10769ce2",
   "metadata": {},
   "outputs": [
    {
     "data": {
      "text/plain": [
       "0"
      ]
     },
     "execution_count": 46,
     "metadata": {},
     "output_type": "execute_result"
    }
   ],
   "source": [
    "np_range.argmin()"
   ]
  },
  {
   "cell_type": "code",
   "execution_count": 47,
   "id": "45514a6c",
   "metadata": {},
   "outputs": [
    {
     "data": {
      "text/plain": [
       "9"
      ]
     },
     "execution_count": 47,
     "metadata": {},
     "output_type": "execute_result"
    }
   ],
   "source": [
    "np_range.max()"
   ]
  },
  {
   "cell_type": "code",
   "execution_count": 53,
   "id": "8bdfb5e8",
   "metadata": {},
   "outputs": [],
   "source": [
    "matrix=np.array([[1,2,3],[4,5,6],[4,5,6]])"
   ]
  },
  {
   "cell_type": "code",
   "execution_count": 54,
   "id": "12dfed7e",
   "metadata": {},
   "outputs": [
    {
     "data": {
      "text/plain": [
       "numpy.ndarray"
      ]
     },
     "execution_count": 54,
     "metadata": {},
     "output_type": "execute_result"
    }
   ],
   "source": [
    "type(matrix)"
   ]
  },
  {
   "cell_type": "code",
   "execution_count": 55,
   "id": "558dc3fe",
   "metadata": {},
   "outputs": [
    {
     "data": {
      "text/plain": [
       "5"
      ]
     },
     "execution_count": 55,
     "metadata": {},
     "output_type": "execute_result"
    }
   ],
   "source": [
    "matrix[1,1]"
   ]
  },
  {
   "cell_type": "code",
   "execution_count": 56,
   "id": "ed96fc0b",
   "metadata": {},
   "outputs": [
    {
     "data": {
      "text/plain": [
       "array([2, 5, 5])"
      ]
     },
     "execution_count": 56,
     "metadata": {},
     "output_type": "execute_result"
    }
   ],
   "source": [
    "matrix[:,1]"
   ]
  },
  {
   "cell_type": "code",
   "execution_count": 57,
   "id": "39c0ac97",
   "metadata": {},
   "outputs": [
    {
     "data": {
      "text/plain": [
       "array([[1, 2, 3],\n",
       "       [4, 5, 6],\n",
       "       [4, 5, 6]])"
      ]
     },
     "execution_count": 57,
     "metadata": {},
     "output_type": "execute_result"
    }
   ],
   "source": [
    "matrix"
   ]
  },
  {
   "cell_type": "code",
   "execution_count": 58,
   "id": "6f25bd7c",
   "metadata": {},
   "outputs": [
    {
     "data": {
      "text/plain": [
       "array([[1, 2],\n",
       "       [4, 5],\n",
       "       [4, 5]])"
      ]
     },
     "execution_count": 58,
     "metadata": {},
     "output_type": "execute_result"
    }
   ],
   "source": [
    "matrix[:,(0,1)]"
   ]
  },
  {
   "cell_type": "code",
   "execution_count": null,
   "id": "5d982074",
   "metadata": {},
   "outputs": [],
   "source": [
    "np.random.randint()"
   ]
  }
 ],
 "metadata": {
  "kernelspec": {
   "display_name": "Python 3 (ipykernel)",
   "language": "python",
   "name": "python3"
  },
  "language_info": {
   "codemirror_mode": {
    "name": "ipython",
    "version": 3
   },
   "file_extension": ".py",
   "mimetype": "text/x-python",
   "name": "python",
   "nbconvert_exporter": "python",
   "pygments_lexer": "ipython3",
   "version": "3.9.7"
  }
 },
 "nbformat": 4,
 "nbformat_minor": 5
}
